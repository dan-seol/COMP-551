{
 "cells": [
  {
   "cell_type": "code",
   "execution_count": 1,
   "metadata": {
    "collapsed": true
   },
   "outputs": [],
   "source": [
    "import numpy as np\n",
    "import matplotlib.pyplot as plt\n",
    "import pandas\n",
    "from numpy.linalg import inv\n",
    "import random\n",
    "import csv"
   ]
  },
  {
   "cell_type": "code",
   "execution_count": 24,
   "metadata": {},
   "outputs": [],
   "source": [
    "#Reading files\n",
    "DS1_Cov_raw = '/Users/cayman329/Documents/FALL_2018/Courses/COMP_551/Assignment 2/hwk2_datasets/DS1_Cov.txt'\n",
    "DS1_mu0_raw = '/Users/cayman329/Documents/FALL_2018/Courses/COMP_551/Assignment 2/hwk2_datasets/DS1_m_0.txt'\n",
    "DS1_mu1_raw = '/Users/cayman329/Documents/FALL_2018/Courses/COMP_551/Assignment 2/hwk2_datasets/DS1_m_1.txt'\n",
    "DS1_Cov = np.genfromtxt(DS1_Cov_raw, delimiter =',', usecols = range(20))\n",
    "DS1_mu0 = np.genfromtxt(DS1_mu0_raw, delimiter =',', usecols = range(20))\n",
    "DS1_mu1 = np.genfromtxt(DS1_mu1_raw, delimiter =',', usecols = range(20))\n"
   ]
  },
  {
   "cell_type": "code",
   "execution_count": 62,
   "metadata": {},
   "outputs": [
    {
     "name": "stdout",
     "output_type": "stream",
     "text": [
      "[[ 5.09355808e-01  1.02314208e+00  2.33094804e+00 ... -5.71752197e-04\n",
      "   2.70329020e+00  0.00000000e+00]\n",
      " [ 1.76772996e-03 -2.14260389e+00 -2.72238283e+00 ... -1.10904542e+00\n",
      "   9.22149429e-01  0.00000000e+00]\n",
      " [-3.92677670e+00 -2.73235083e+00 -1.60607162e+00 ... -1.07081282e+00\n",
      "  -3.93469145e+00  0.00000000e+00]\n",
      " ...\n",
      " [-1.26889275e+00  3.73668670e-01 -3.24162712e+00 ... -5.75245517e-01\n",
      "  -7.81804843e-01  0.00000000e+00]\n",
      " [ 2.82455849e+00 -4.92428047e-02  1.70395615e+00 ...  7.75936624e-01\n",
      "  -1.97252900e-01  0.00000000e+00]\n",
      " [ 6.87253831e+00  3.42271576e+00  4.81272091e+00 ...  3.84013198e+00\n",
      "   4.54715351e+00  0.00000000e+00]]\n",
      "[[-0.22711527  3.84715778  3.68890986 ...  2.03899309  1.29099823\n",
      "   1.        ]\n",
      " [ 2.01145922  5.83642982  2.20381812 ...  5.75558896  2.8102969\n",
      "   1.        ]\n",
      " [-0.3156675   2.13661959 -0.08496854 ...  3.90310986  0.7865118\n",
      "   1.        ]\n",
      " ...\n",
      " [ 0.03010487  1.42972383  2.37099292 ... -0.40055145  3.35654303\n",
      "   1.        ]\n",
      " [ 0.41189945  1.18353963  2.12679848 ... -1.2564107  -2.68327495\n",
      "   1.        ]\n",
      " [-1.17786729  0.40567472  0.3988882  ... -0.8081833  -0.75172221\n",
      "   1.        ]]\n",
      "(2000, 21)\n",
      "(2000, 21)\n"
     ]
    }
   ],
   "source": [
    "#Set the seed (I like choosing 329, which is my date of birth!)\n",
    "random.seed(329)\n",
    "c0 = np.random.permutation(np.random.multivariate_normal(DS1_mu0, DS1_Cov, 2000))\n",
    "c1 = np.random.permutation(np.random.multivariate_normal(DS1_mu1, DS1_Cov, 2000))\n",
    "C0 = np.append(c0, np.zeros((2000,1)),1)\n",
    "C1 = np.append(c1, np.ones((2000,1)), 1)\n",
    "\n",
    "print(C0)\n",
    "print(C1)\n",
    "print(np.shape(C0))\n",
    "print(np.shape(C1))                                                            "
   ]
  },
  {
   "cell_type": "code",
   "execution_count": 63,
   "metadata": {
    "collapsed": true
   },
   "outputs": [],
   "source": [
    "test_c0 = C0[0:400]\n",
    "test_c1 = C1[0:400]\n",
    "valid_c0 = C0[400:800]\n",
    "valid_c1 = C1[400:800]\n",
    "train_c0 = C0[800:2000]\n",
    "train_c1 = C1[800:2000]"
   ]
  },
  {
   "cell_type": "code",
   "execution_count": 55,
   "metadata": {
    "collapsed": true
   },
   "outputs": [],
   "source": [
    "test = np.random.permutation(np.append(test_c0, test_c1,axis=0))\n",
    "valid = np.random.permutation(np.append(valid_c0, valid_c1,axis=0))\n",
    "train = np.random.permutation(np.append(train_c0, train_c1,axis=0))"
   ]
  },
  {
   "cell_type": "code",
   "execution_count": 64,
   "metadata": {},
   "outputs": [
    {
     "name": "stdout",
     "output_type": "stream",
     "text": [
      "(800, 21)\n",
      "(800, 21)\n",
      "(2400, 21)\n"
     ]
    }
   ],
   "source": [
    "print(np.shape(test))\n",
    "print(np.shape(valid))\n",
    "print(np.shape(train))\n"
   ]
  },
  {
   "cell_type": "code",
   "execution_count": 61,
   "metadata": {},
   "outputs": [
    {
     "name": "stdout",
     "output_type": "stream",
     "text": [
      "Files are stored\n"
     ]
    }
   ],
   "source": [
    "np.savetxt('DS1_test.csv', test, delimiter=',')\n",
    "np.savetxt('DS1_valid.csv', valid, delimiter=',')\n",
    "np.savetxt('DS1_train.csv', train, delimiter=',')\n",
    "print(\"Files are stored\")"
   ]
  },
  {
   "cell_type": "code",
   "execution_count": null,
   "metadata": {
    "collapsed": true
   },
   "outputs": [],
   "source": []
  }
 ],
 "metadata": {
  "kernelspec": {
   "display_name": "Python 3",
   "language": "python",
   "name": "python3"
  },
  "language_info": {
   "codemirror_mode": {
    "name": "ipython",
    "version": 3
   },
   "file_extension": ".py",
   "mimetype": "text/x-python",
   "name": "python",
   "nbconvert_exporter": "python",
   "pygments_lexer": "ipython3",
   "version": "3.6.3"
  }
 },
 "nbformat": 4,
 "nbformat_minor": 2
}
