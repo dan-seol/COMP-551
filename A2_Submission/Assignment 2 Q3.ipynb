{
 "cells": [
  {
   "cell_type": "code",
   "execution_count": 1,
   "metadata": {
    "collapsed": true
   },
   "outputs": [],
   "source": [
    "# import necessary libraries \n",
    "import matplotlib.pyplot as plt\n",
    "import pandas as pd\n",
    "import numpy as np\n",
    "import functools\n",
    "import random\n",
    "import math\n",
    "from operator import itemgetter"
   ]
  },
  {
   "cell_type": "code",
   "execution_count": null,
   "metadata": {},
   "outputs": [],
   "source": [
    "#Define L2 Norm\n",
    "def L2Norm(vec1, vec2):\n",
    "   \n",
    "    return math.sqrt((vec1-vec2)@(vec1-vec2))\n",
    "\n",
    "L2Norm(np.array([1,2]), np.array([0,0]))"
   ]
  },
  {
   "cell_type": "code",
   "execution_count": 3,
   "metadata": {},
   "outputs": [
    {
     "name": "stdout",
     "output_type": "stream",
     "text": [
      "[[1 2]\n",
      " [2 3]\n",
      " [0 1]\n",
      " [0 0]]\n",
      "[2.23606797749979, 3.605551275463989, 1.0, 0.0]\n"
     ]
    }
   ],
   "source": [
    "otherPoints = np.array([[1,2], [2,3], [0,1], [0,0]])\n",
    "print(otherPoints)\n",
    "point = np.array([0,0])\n",
    "output = []\n",
    "for row in otherPoints:\n",
    "    output.append(L2Norm(row, point))\n",
    "\n",
    "print(output)\n",
    "output \n",
    "length = np.arange(len(output))\n",
    "\n",
    "\n",
    "\n",
    "indexed_output = [output, length.tolist()]\n",
    "\n",
    "indexed_output = zip(*indexed_output)\n",
    "\n",
    "output = sorted(indexed_output, key=itemgetter(0))\n",
    "dist = []\n",
    "\n",
    "\n",
    "\n",
    "\n",
    "\n",
    "\n",
    "\n"
   ]
  },
  {
   "cell_type": "code",
   "execution_count": 9,
   "metadata": {},
   "outputs": [],
   "source": [
    "#Getting nearest K neighbors : iteratively defined\n",
    "#The method did not work; it worked fine when it comes to getting neighbors but it failed to return the predicted value i.e. y hat\n",
    "\n",
    "\n",
    "def getNeighborIndices(point, k, otherPoints):\n",
    "    output = []\n",
    "    for row in otherPoints:\n",
    "        output.append(L2Norm(row, point))\n",
    "    \n",
    "    length = np.arange(len(output))\n",
    "    output = [output, length.tolist()]\n",
    "  \n",
    "    output.sort(key=itemgetter(0))\n",
    "   \n",
    "    dist = []\n",
    "    \n",
    "    for i in range(1, k+1):\n",
    "        dist.append((int)(output[0][-i]))\n",
    "    return np.array(dist)\n",
    "\n",
    "def getNeighbors(point, k, otherPoints, othersWResp):\n",
    "    Neighbors = []\n",
    "    j = getNeighborIndices(point, k, otherPoints)\n",
    "    for i in range(0, k):\n",
    "        \n",
    "        \n",
    "        Neighbors.append(othersWResp[(j[i])])\n",
    "    return Neighbors\n",
    "    \n",
    "    \n",
    "    \n",
    "\n",
    "    "
   ]
  },
  {
   "cell_type": "code",
   "execution_count": 10,
   "metadata": {},
   "outputs": [
    {
     "name": "stdout",
     "output_type": "stream",
     "text": [
      "[3 2]\n",
      "[[0 0]\n",
      " [0 1]]\n",
      "[[4 4 4]]\n"
     ]
    }
   ],
   "source": [
    "#Testing the function\n",
    "print(getNeighborIndices(point, 2, otherPoints))\n",
    "print(np.array(getNeighbors(point, 2, otherPoints, otherPoints)))\n",
    "trainSet = [[2, 2, 2], [4, 4, 4 ]]\n",
    "testInstance = [5, 5, 5]\n",
    "k = 1\n",
    "neighbors = getNeighbors(np.array(testInstance), 1, np.array(trainSet), np.array(trainSet))\n",
    "print(np.array(neighbors))"
   ]
  },
  {
   "cell_type": "code",
   "execution_count": 35,
   "metadata": {},
   "outputs": [
    {
     "name": "stdout",
     "output_type": "stream",
     "text": [
      "(800, 21)\n",
      "(800, 21)\n",
      "(2400, 21)\n"
     ]
    }
   ],
   "source": [
    "test = np.genfromtxt('DS1_test.csv', delimiter = ',')\n",
    "valid = np.genfromtxt('DS1_valid.csv', delimiter = ',')\n",
    "train = np.genfromtxt('DS1_train.csv', delimiter = ',')\n",
    "print(np.shape(test))\n",
    "print(np.shape(valid))\n",
    "print(np.shape(train))\n",
    "    "
   ]
  },
  {
   "cell_type": "code",
   "execution_count": 40,
   "metadata": {},
   "outputs": [],
   "source": [
    "#After 3 days with some help, I was able to find a more optimal implementation\n",
    "def class_map(x,k): #Implementation of K-NN\n",
    "    nn = []\n",
    "    for i,row in enumerate(train):\n",
    "        point = np.array(row[:-1])\n",
    "        dif = x-point\n",
    "        dist = L2Norm(dif, 0) # l2\n",
    "        \n",
    "        if len(nn)<k:\n",
    "            nn.append([dist,i]) #save the L2norm and the index of the point\n",
    "        else:\n",
    "            nn.sort(key=lambda x: x[0]) #sort our nearest neighbours based on dist\n",
    "            if dist<nn[k-1][0]: #if we are closer than the farthest neighbour we replace it with the current val\n",
    "                del nn[-1]\n",
    "                nn.append([dist,i])\n",
    "       \n",
    "    mean = 0\n",
    "    for n in nn:\n",
    "        i = n[1] # row in train data\n",
    "        val = train[i][-1] #grab 0,1 val of row\n",
    "        mean += val\n",
    "    mean /= k\n",
    "    \n",
    "\n",
    "    if mean<.5:\n",
    "        return 0\n",
    "    else:\n",
    "        return 1"
   ]
  },
  {
   "cell_type": "code",
   "execution_count": 45,
   "metadata": {},
   "outputs": [
    {
     "name": "stdout",
     "output_type": "stream",
     "text": [
      "k: 1\n",
      "Accuracy would be: 0.5325\n",
      "Precision obtained: 0.5321782178217822\n",
      "Recall is: 0.5375\n",
      "F Measure observed: 0.5348258706467662\n",
      "\n",
      "\n",
      "k: 2\n",
      "Accuracy would be: 0.5225\n",
      "Precision obtained: 0.5178217821782178\n",
      "Recall is: 0.65375\n",
      "F Measure observed: 0.5779005524861879\n",
      "\n",
      "\n",
      "k: 3\n",
      "Accuracy would be: 0.5229166666666667\n",
      "Precision obtained: 0.5193253689388616\n",
      "Recall is: 0.6158333333333333\n",
      "F Measure observed: 0.5634769348074724\n",
      "\n",
      "\n",
      "k: 4\n",
      "Accuracy would be: 0.5215625\n",
      "Precision obtained: 0.5173978819969742\n",
      "Recall is: 0.64125\n",
      "F Measure observed: 0.5727044376221043\n",
      "\n",
      "\n",
      "k: 5\n",
      "Accuracy would be: 0.52575\n",
      "Precision obtained: 0.5213781652137817\n",
      "Recall is: 0.628\n",
      "F Measure observed: 0.5697437060557949\n",
      "\n",
      "\n",
      "k: 6\n",
      "Accuracy would be: 0.526875\n",
      "Precision obtained: 0.5217244863590434\n",
      "Recall is: 0.6454166666666666\n",
      "F Measure observed: 0.5770162041348482\n",
      "\n",
      "\n",
      "k: 7\n",
      "Accuracy would be: 0.5257142857142857\n",
      "Precision obtained: 0.5211889346674514\n",
      "Recall is: 0.6325\n",
      "F Measure observed: 0.5714746692481446\n",
      "\n",
      "\n",
      "k: 8\n",
      "Accuracy would be: 0.5271875\n",
      "Precision obtained: 0.5221486761710794\n",
      "Recall is: 0.6409375\n",
      "F Measure observed: 0.5754769921436588\n",
      "\n",
      "\n",
      "k: 9\n",
      "Accuracy would be: 0.5277777777777778\n",
      "Precision obtained: 0.5229568411386594\n",
      "Recall is: 0.6327777777777778\n",
      "F Measure observed: 0.5726495726495727\n",
      "\n",
      "\n"
     ]
    }
   ],
   "source": [
    "# test accuracy, precision, recall, and F-measure to get the ideal k\n",
    "tp = 0\n",
    "tn = 0\n",
    "fp = 0\n",
    "fn = 0\n",
    "total = 0\n",
    "k=2\n",
    "\n",
    "for k in range(1,10):\n",
    "    for row in valid:\n",
    "        total +=1\n",
    "        x = np.array(row[:-1])\n",
    "        true_val = row[-1]\n",
    "\n",
    "        decision = class_map(x,k)\n",
    "\n",
    "        if decision == 0:\n",
    "            if true_val == 0: #specificity\n",
    "                tn+=1\n",
    "            else: #Error Type II\n",
    "                fn+=1\n",
    "        else:\n",
    "            if true_val == 0: #Error Type I\n",
    "                fp+=1\n",
    "            else: #sensitivity\n",
    "                tp+=1\n",
    "\n",
    "\n",
    "\n",
    "    acc = (tn+tp)/total\n",
    "    prec = tp/(tp+fp) \n",
    "    rec = tp/(tp+fn)\n",
    "    f = 2*prec*rec/(prec+rec)\n",
    "\n",
    "    print(f\"k: {k}\")\n",
    "    print(f\"Accuracy would be: {acc}\")\n",
    "    print(f\"Precision obtained: {prec}\")\n",
    "    print(f\"Recall is: {rec}\")\n",
    "    print(f\"F Measure observed: {f}\")\n",
    "    print('\\n')"
   ]
  },
  {
   "cell_type": "code",
   "execution_count": 51,
   "metadata": {},
   "outputs": [
    {
     "name": "stdout",
     "output_type": "stream",
     "text": [
      "k: 2\n",
      "Accuracy would be: 0.56625\n",
      "Precision obtained: 0.5459272097053726\n",
      "Recall is: 0.7875\n",
      "F Measure observed: 0.6448311156601843\n",
      "\n",
      "\n"
     ]
    }
   ],
   "source": [
    "# test accuracy, precision, recall, and F-measure to get the ideal k\n",
    "#The valid set suggests using 2 might be a good choice\n",
    "tp = 0\n",
    "tn = 0\n",
    "fp = 0\n",
    "fn = 0\n",
    "total = 0\n",
    "k=2\n",
    "\n",
    "\n",
    "for row in test:\n",
    "    total +=1\n",
    "    x = np.array(row[:-1])\n",
    "    true_val = row[-1]\n",
    "\n",
    "    decision = class_map(x,k)\n",
    "\n",
    "    if decision == 0:\n",
    "        if true_val == 0: #specificity\n",
    "            tn+=1\n",
    "        else: #Error Type II\n",
    "            fn+=1\n",
    "    else:\n",
    "        if true_val == 0: #Error Type I\n",
    "            fp+=1\n",
    "        else: #sensitivity\n",
    "            tp+=1\n",
    "\n",
    "\n",
    "\n",
    "acc = (tn+tp)/total\n",
    "prec = tp/(tp+fp) \n",
    "rec = tp/(tp+fn)\n",
    "f = 2*prec*rec/(prec+rec)\n",
    "\n",
    "print(f\"k: {k}\")\n",
    "print(f\"Accuracy would be: {acc}\")\n",
    "print(f\"Precision obtained: {prec}\")\n",
    "print(f\"Recall is: {rec}\")\n",
    "print(f\"F Measure observed: {f}\")\n",
    "print('\\n')"
   ]
  },
  {
   "cell_type": "code",
   "execution_count": null,
   "metadata": {
    "collapsed": true
   },
   "outputs": [],
   "source": []
  }
 ],
 "metadata": {
  "kernelspec": {
   "display_name": "Python 3",
   "language": "python",
   "name": "python3"
  },
  "language_info": {
   "codemirror_mode": {
    "name": "ipython",
    "version": 3
   },
   "file_extension": ".py",
   "mimetype": "text/x-python",
   "name": "python",
   "nbconvert_exporter": "python",
   "pygments_lexer": "ipython3",
   "version": "3.6.3"
  }
 },
 "nbformat": 4,
 "nbformat_minor": 2
}
