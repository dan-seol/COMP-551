{
 "cells": [
  {
   "cell_type": "code",
   "execution_count": 1,
   "metadata": {
    "collapsed": true
   },
   "outputs": [],
   "source": [
    "import numpy as np\n",
    "import matplotlib.pyplot as plt\n",
    "import pandas\n",
    "from numpy.linalg import inv\n",
    "import random\n",
    "import csv"
   ]
  },
  {
   "cell_type": "code",
   "execution_count": 3,
   "metadata": {},
   "outputs": [],
   "source": [
    "#Reading files\n",
    "DS2_Cov1_raw = '/Users/cayman329/Documents/FALL_2018/Courses/COMP_551/Assignment 2/hwk2_datasets/DS2_Cov1.txt'\n",
    "DS2_Cov2_raw = '/Users/cayman329/Documents/FALL_2018/Courses/COMP_551/Assignment 2/hwk2_datasets/DS2_Cov2.txt'\n",
    "DS2_Cov3_raw = '/Users/cayman329/Documents/FALL_2018/Courses/COMP_551/Assignment 2/hwk2_datasets/DS2_Cov3.txt'\n",
    "DS2_Cov3_raw = '/Users/cayman329/Documents/FALL_2018/Courses/COMP_551/Assignment 2/hwk2_datasets/DS2_Cov3.txt'\n",
    "DS2_c1_m1_raw = '/Users/cayman329/Documents/FALL_2018/Courses/COMP_551/Assignment 2/hwk2_datasets/DS2_c1_m1.txt'\n",
    "DS2_c1_m2_raw = '/Users/cayman329/Documents/FALL_2018/Courses/COMP_551/Assignment 2/hwk2_datasets/DS2_c1_m2.txt'\n",
    "DS2_c1_m3_raw = '/Users/cayman329/Documents/FALL_2018/Courses/COMP_551/Assignment 2/hwk2_datasets/DS2_c1_m3.txt'\n",
    "DS2_c2_m1_raw = '/Users/cayman329/Documents/FALL_2018/Courses/COMP_551/Assignment 2/hwk2_datasets/DS2_c2_m1.txt'\n",
    "DS2_c2_m2_raw = '/Users/cayman329/Documents/FALL_2018/Courses/COMP_551/Assignment 2/hwk2_datasets/DS2_c2_m2.txt'\n",
    "DS2_c2_m3_raw = '/Users/cayman329/Documents/FALL_2018/Courses/COMP_551/Assignment 2/hwk2_datasets/DS2_c2_m3.txt'\n",
    "DS2_Cov1 = np.genfromtxt(DS2_Cov1_raw, delimiter =',', usecols = range(20))\n",
    "DS2_Cov2 = np.genfromtxt(DS2_Cov2_raw, delimiter =',', usecols = range(20))\n",
    "DS2_Cov3 = np.genfromtxt(DS2_Cov3_raw, delimiter =',', usecols = range(20))\n",
    "DS2_c1_m1 = np.genfromtxt(DS2_c1_m1_raw, delimiter =',', usecols = range(20))\n",
    "DS2_c1_m2 = np.genfromtxt(DS2_c1_m2_raw, delimiter =',', usecols = range(20))\n",
    "DS2_c1_m3 = np.genfromtxt(DS2_c1_m3_raw, delimiter =',', usecols = range(20))\n",
    "DS2_c2_m1 = np.genfromtxt(DS2_c2_m1_raw, delimiter =',', usecols = range(20))\n",
    "DS2_c2_m2 = np.genfromtxt(DS2_c2_m2_raw, delimiter =',', usecols = range(20))\n",
    "DS2_c2_m3 = np.genfromtxt(DS2_c2_m3_raw, delimiter =',', usecols = range(20))\n",
    "\n"
   ]
  },
  {
   "cell_type": "code",
   "execution_count": 22,
   "metadata": {},
   "outputs": [
    {
     "name": "stdout",
     "output_type": "stream",
     "text": [
      "(200, 20)\n",
      "(2000, 20)\n",
      "(2000, 20)\n",
      "(2000, 21)\n",
      "(2000, 21)\n"
     ]
    }
   ],
   "source": [
    "#Set the seed (I like choosing 329, which is my date of birth!)\n",
    "random.seed(329)\n",
    "c1_g1 = np.random.permutation(np.random.multivariate_normal(DS2_c1_m1, DS2_Cov1, 200))\n",
    "c1_g2 = np.random.permutation(np.random.multivariate_normal(DS2_c1_m2, DS2_Cov2, 840))\n",
    "c1_g3 = np.random.permutation(np.random.multivariate_normal(DS2_c1_m3, DS2_Cov3, 960))\n",
    "c2_g1 = np.random.permutation(np.random.multivariate_normal(DS2_c2_m1, DS2_Cov1, 200))\n",
    "c2_g2 = np.random.permutation(np.random.multivariate_normal(DS2_c2_m2, DS2_Cov2, 840))\n",
    "c2_g3 = np.random.permutation(np.random.multivariate_normal(DS2_c2_m3, DS2_Cov3, 960))\n",
    "9\n",
    "C1 = np.concatenate((c1_g1, c1_g2), axis=0)\n",
    "C1 = np.concatenate((C1, c1_g3),axis = 0) \n",
    "#shuffle once more\n",
    "C1 = np.random.permutation(C1)\n",
    "\n",
    "C2 = np.concatenate((c2_g1, c2_g2), axis=0)\n",
    "C2 = np.concatenate((C2, c2_g3), axis = 0)\n",
    "#shuffle the second file as well\n",
    "C2 = np.random.permutation(C2)\n",
    "\n",
    "#time to label the class: the class1 being positive, the class 2 to be negative\n",
    "\n",
    "##Before labeling\n",
    "print(np.shape(c1_g1))\n",
    "print(np.shape(C1))\n",
    "print(np.shape(C2))\n",
    "##After labeling\n",
    "C1 = np.append(C1,np.ones((2000, 1)), axis=1)\n",
    "C2 = np.append(C2, np.zeros((2000, 1)), axis=1)\n",
    "print(np.shape(C1))\n",
    "print(np.shape(C2))\n"
   ]
  },
  {
   "cell_type": "code",
   "execution_count": 26,
   "metadata": {},
   "outputs": [
    {
     "name": "stdout",
     "output_type": "stream",
     "text": [
      "(800, 21)\n",
      "(800, 21)\n",
      "(2400, 21)\n"
     ]
    }
   ],
   "source": [
    "#We now split the set into (test, valid, train)\n",
    "\n",
    "test_C1 = C1[0:400]\n",
    "test_C2 = C2[0:400]\n",
    "valid_C1 = C1[400:800]\n",
    "valid_C2 = C2[400:800]\n",
    "train_C1 = C1[800:2000]\n",
    "train_C2 = C2[800:2000]\n",
    "\n",
    "#We add the piles from each class ,and then shuffle for test, valid, and training set, respectively\n",
    "\n",
    "TEST = np.random.permutation(np.append(test_C1, test_C2,axis=0))\n",
    "VALID = np.random.permutation(np.append(valid_C1, valid_C2,axis=0))\n",
    "TRAIN = np.random.permutation(np.append(train_C1, train_C2,axis=0))\n",
    "\n",
    "#We check their dimensions\n",
    "print(np.shape(test))\n",
    "print(np.shape(valid))\n",
    "print(np.shape(train))\n"
   ]
  },
  {
   "cell_type": "code",
   "execution_count": 27,
   "metadata": {},
   "outputs": [
    {
     "name": "stdout",
     "output_type": "stream",
     "text": [
      "Files are stored successfully - Q4\n"
     ]
    }
   ],
   "source": [
    "np.savetxt('DS2_test.csv', TEST, delimiter=',')\n",
    "np.savetxt('DS2_valid.csv', VALID, delimiter=',')\n",
    "np.savetxt('DS2_train.csv', TRAIN, delimiter=',')\n",
    "print(\"Files are stored successfully - Q4\")"
   ]
  },
  {
   "cell_type": "code",
   "execution_count": null,
   "metadata": {
    "collapsed": true
   },
   "outputs": [],
   "source": []
  }
 ],
 "metadata": {
  "kernelspec": {
   "display_name": "Python 3",
   "language": "python",
   "name": "python3"
  },
  "language_info": {
   "codemirror_mode": {
    "name": "ipython",
    "version": 3
   },
   "file_extension": ".py",
   "mimetype": "text/x-python",
   "name": "python",
   "nbconvert_exporter": "python",
   "pygments_lexer": "ipython3",
   "version": "3.6.3"
  }
 },
 "nbformat": 4,
 "nbformat_minor": 2
}
